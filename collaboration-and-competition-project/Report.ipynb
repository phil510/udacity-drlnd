{
 "cells": [
  {
   "cell_type": "markdown",
   "metadata": {},
   "source": [
    "# Collaboration and Competition\n",
    "\n",
    "---\n",
    "\n",
    "### 1. Start the Environment\n",
    "\n",
    "We begin by importing some necessary packages."
   ]
  },
  {
   "cell_type": "code",
   "execution_count": 1,
   "metadata": {},
   "outputs": [],
   "source": [
    "from unityagents import UnityEnvironment\n",
    "import numpy as np\n",
    "import sys\n",
    "import matplotlib.pyplot as plt\n",
    "import time\n",
    "\n",
    "%matplotlib inline"
   ]
  },
  {
   "cell_type": "markdown",
   "metadata": {},
   "source": [
    "Unity environments contain **_brains_** which are responsible for deciding the actions of their associated agents. Here we check for the first brain available, and set it as the default brain we will be controlling from Python."
   ]
  },
  {
   "cell_type": "code",
   "execution_count": 2,
   "metadata": {},
   "outputs": [
    {
     "name": "stderr",
     "output_type": "stream",
     "text": [
      "INFO:unityagents:\n",
      "'Academy' started successfully!\n",
      "Unity Academy name: Academy\n",
      "        Number of Brains: 1\n",
      "        Number of External Brains : 1\n",
      "        Lesson number : 0\n",
      "        Reset Parameters :\n",
      "\t\t\n",
      "Unity brain name: TennisBrain\n",
      "        Number of Visual Observations (per agent): 0\n",
      "        Vector Observation space type: continuous\n",
      "        Vector Observation space size (per agent): 8\n",
      "        Number of stacked Vector Observation: 3\n",
      "        Vector Action space type: continuous\n",
      "        Vector Action space size (per agent): 2\n",
      "        Vector Action descriptions: , \n"
     ]
    }
   ],
   "source": [
    "env = UnityEnvironment(file_name = 'Tennis.exe')\n",
    "\n",
    "# get the default brain\n",
    "brain_name = env.brain_names[0]\n",
    "brain = env.brains[brain_name]"
   ]
  },
  {
   "cell_type": "markdown",
   "metadata": {},
   "source": [
    "### 2. Examine the State and Action Spaces\n",
    "\n",
    "In this environment, two agents control rackets to bounce a ball over a net. If an agent hits the ball over the net, it receives a reward of +0.1.  If an agent lets a ball hit the ground or hits the ball out of bounds, it receives a reward of -0.01.  Thus, the goal of each agent is to keep the ball in play.\n",
    "\n",
    "The observation space consists of 8 variables corresponding to the position and velocity of the ball and racket. Two continuous actions are available, corresponding to movement toward (or away from) the net, and jumping. \n",
    "\n",
    "Run the code cell below to print some information about the environment."
   ]
  },
  {
   "cell_type": "code",
   "execution_count": 3,
   "metadata": {},
   "outputs": [
    {
     "name": "stdout",
     "output_type": "stream",
     "text": [
      "Number of agents: 2\n",
      "Size of each action: 2\n",
      "There are 2 agents. Each observes a state with length: 24\n",
      "The state for the first agent looks like: [ 0.          0.          0.          0.          0.          0.\n",
      "  0.          0.          0.          0.          0.          0.\n",
      "  0.          0.          0.          0.         -6.65278625 -1.5\n",
      " -0.          0.          6.83172083  6.         -0.          0.        ]\n"
     ]
    }
   ],
   "source": [
    "# reset the environment\n",
    "env_info = env.reset(train_mode=True)[brain_name]\n",
    "\n",
    "# number of agents \n",
    "num_agents = len(env_info.agents)\n",
    "print('Number of agents:', num_agents)\n",
    "\n",
    "# size of each action\n",
    "action_size = brain.vector_action_space_size\n",
    "print('Size of each action:', action_size)\n",
    "\n",
    "# examine the state space \n",
    "states = env_info.vector_observations\n",
    "state_size = states.shape[1]\n",
    "print('There are {} agents. Each observes a state with length: {}'.format(states.shape[0], state_size))\n",
    "print('The state for the first agent looks like:', states[0])"
   ]
  },
  {
   "cell_type": "markdown",
   "metadata": {},
   "source": [
    "### 3. Take Random Actions in the Environment\n",
    "\n",
    "The next cell shows the performance of a random agent and the commands needed to interact with the Unity environment."
   ]
  },
  {
   "cell_type": "code",
   "execution_count": 4,
   "metadata": {},
   "outputs": [
    {
     "name": "stdout",
     "output_type": "stream",
     "text": [
      "Score (max over agents) from episode 1: 0.0\n",
      "Score (max over agents) from episode 2: 0.0\n",
      "Score (max over agents) from episode 3: 0.0\n",
      "Score (max over agents) from episode 4: 0.0\n",
      "Score (max over agents) from episode 5: 0.0\n"
     ]
    }
   ],
   "source": [
    "for i in range(1, 6):                                      # play game for 5 episodes\n",
    "    env_info = env.reset(train_mode=False)[brain_name]     # reset the environment    \n",
    "    states = env_info.vector_observations                  # get the current state (for each agent)\n",
    "    scores = np.zeros(num_agents)                          # initialize the score (for each agent)\n",
    "    while True:\n",
    "        actions = np.random.randn(num_agents, action_size) # select an action (for each agent)\n",
    "        actions = np.clip(actions, -1, 1)                  # all actions between -1 and 1\n",
    "        env_info = env.step(actions)[brain_name]           # send all actions to tne environment\n",
    "        next_states = env_info.vector_observations         # get next state (for each agent)\n",
    "        rewards = env_info.rewards                         # get reward (for each agent)\n",
    "        dones = env_info.local_done                        # see if episode finished\n",
    "        scores += env_info.rewards                         # update the score (for each agent)\n",
    "        states = next_states                               # roll over states to next time step\n",
    "        if np.any(dones):                                  # exit loop if episode finished\n",
    "            break\n",
    "    print('Score (max over agents) from episode {}: {}'.format(i, np.max(scores)))"
   ]
  },
  {
   "cell_type": "markdown",
   "metadata": {},
   "source": [
    "### 4. Solving the Environment\n",
    "\n",
    "Next we implement Proximal Policy Optimization (PPO) to solve the environment.\n",
    "\n",
    "When training the environment, set `train_mode=True`, so that the line for resetting the environment looks like the following:\n",
    "```python\n",
    "env_info = env.reset(train_mode=True)[brain_name]\n",
    "```\n",
    "\n",
    "First, we import additional packages."
   ]
  },
  {
   "cell_type": "code",
   "execution_count": 5,
   "metadata": {},
   "outputs": [],
   "source": [
    "import torch\n",
    "import torch.nn as nn\n",
    "import torch.optim as optim\n",
    "import torch.nn.functional as F\n",
    "from collections import deque\n",
    "import sys\n",
    "import time\n",
    "import pandas as pd"
   ]
  },
  {
   "cell_type": "code",
   "execution_count": 6,
   "metadata": {},
   "outputs": [],
   "source": [
    "%load_ext autoreload\n",
    "%autoreload 2"
   ]
  },
  {
   "cell_type": "markdown",
   "metadata": {},
   "source": [
    "For this environment, we'll be using DDPG and a couple of variations."
   ]
  },
  {
   "cell_type": "code",
   "execution_count": 7,
   "metadata": {},
   "outputs": [],
   "source": [
    "from models import DDPGModel, MADDPGModel, MAD3PGModel\n",
    "from DDPG_agent import DDPGAgent\n",
    "from MADDPG_agent import MADDPGAgent, MAD3PGAgent\n",
    "from exploration_noise import OrnsteinUhlenbeckProcess as OUNoise, GaussianProcess"
   ]
  },
  {
   "cell_type": "markdown",
   "metadata": {},
   "source": [
    "Next, we define our training function, which terminates once an agent has solved the environment. While solving the environment is defined as achieving an average score >= 0.5 over the the last 100 episodes, we wait until the agent acheives an average score of 1.0 until terminating the training process - a slightly more difficult task. For this project, each epsiode was allowed to continue until terminated by the environment; no limit on the number steps was imposed.\n",
    "\n",
    "This first training function trains two separate agents that do not share any information."
   ]
  },
  {
   "cell_type": "code",
   "execution_count": 8,
   "metadata": {},
   "outputs": [],
   "source": [
    "def train_separately(env, agents, n_episodes = 10000, n_agents = 2,\n",
    "                     evaluation_window = 100, verbose = 100, solved_score = 1.0):\n",
    "    \n",
    "    device = torch.device('cuda:0' if torch.cuda.is_available() else 'cpu')\n",
    "    for agent in agents:\n",
    "        agent.online_network.to(device)\n",
    "        agent.target_network.to(device)\n",
    "        agent.reset_current_step()\n",
    "    \n",
    "    scores = []\n",
    "    \n",
    "    for i in range(n_episodes):\n",
    "        total_rewards = np.zeros(n_agents)\n",
    "    \n",
    "        env_info = env.reset(train_mode = True)[brain_name]\n",
    "        state = env_info.vector_observations\n",
    "        \n",
    "        while True:\n",
    "            actions = []\n",
    "            for j in range(n_agents):\n",
    "                action = agents[j].action(state[j])\n",
    "                actions.append(action)\n",
    "\n",
    "            env_info = env.step(np.array(actions))[brain_name]\n",
    "            next_state = env_info.vector_observations\n",
    "            reward = np.array(env_info.rewards)\n",
    "            done = np.array(env_info.local_done)\n",
    "\n",
    "            total_rewards += reward\n",
    "            \n",
    "            for j in range(n_agents):\n",
    "                agents[j].update(state[j], actions[j], reward[j], next_state[j], done[j])\n",
    "\n",
    "            if np.any(done):\n",
    "                break\n",
    "\n",
    "            state = next_state\n",
    "        \n",
    "        scores.append(np.max(total_rewards))\n",
    "        \n",
    "        average_score = np.mean(scores[-min(evaluation_window, i + 1):])\n",
    "        current_score = scores[-1]\n",
    "        print('\\rEpisode {} | Score: {:.2f} | Average Score: {:.2f}'.format(i + 1, current_score, average_score), end = '')\n",
    "        sys.stdout.flush()\n",
    "        if (i + 1) % verbose == 0:\n",
    "            print('')\n",
    "            \n",
    "        if average_score > solved_score:\n",
    "            print('\\nEnvironment solved in {} episodes'.format(i + 1))\n",
    "            break\n",
    "    \n",
    "    return scores"
   ]
  },
  {
   "cell_type": "markdown",
   "metadata": {},
   "source": [
    "This second train function trains agents that share observation and action information (more on this later)."
   ]
  },
  {
   "cell_type": "code",
   "execution_count": 9,
   "metadata": {},
   "outputs": [],
   "source": [
    "def train_multi_agent(env, multi_agent, n_episodes = 10000, n_agents = 2,\n",
    "                      evaluation_window = 100, verbose = 100, solved_score = 1.0):\n",
    "    \n",
    "    device = torch.device('cuda:0' if torch.cuda.is_available() else 'cpu')\n",
    "    for i in range(n_agents):\n",
    "        multi_agent.online_networks[i].to(device)\n",
    "        multi_agent.target_networks[i].to(device)\n",
    "    \n",
    "    multi_agent.reset_current_step()\n",
    "    \n",
    "    scores = []\n",
    "    \n",
    "    for i in range(n_episodes):\n",
    "        total_rewards = np.zeros(n_agents)\n",
    "    \n",
    "        env_info = env.reset(train_mode = True)[brain_name]\n",
    "        state = env_info.vector_observations\n",
    "        \n",
    "        while True:\n",
    "            action = multi_agent.action(state)\n",
    "            \n",
    "            env_info = env.step(action)[brain_name]\n",
    "            next_state = env_info.vector_observations\n",
    "            reward = np.array(env_info.rewards)\n",
    "            done = np.array(env_info.local_done)\n",
    "            \n",
    "            total_rewards += reward\n",
    "            \n",
    "            multi_agent.update(state, action, reward, next_state, done)\n",
    "\n",
    "            if np.any(done):\n",
    "                break\n",
    "\n",
    "            state = next_state\n",
    "        \n",
    "        scores.append(np.max(total_rewards))\n",
    "        \n",
    "        average_score = np.mean(scores[-min(evaluation_window, i + 1):])\n",
    "        current_score = scores[-1]\n",
    "        print('\\rEpisode {} | Score: {:.2f} | Average Score: {:.2f}'.format(i + 1, current_score, average_score), end = '')\n",
    "        sys.stdout.flush()\n",
    "        if (i + 1) % verbose == 0:\n",
    "            print('')\n",
    "            \n",
    "        if average_score > solved_score:\n",
    "            print('\\nEnvironment solved in {} episodes'.format(i + 1))\n",
    "            break\n",
    "    \n",
    "    return scores"
   ]
  },
  {
   "cell_type": "markdown",
   "metadata": {},
   "source": [
    "Lastly, we define a couple of scheduler objects to allow us to more easily anneal the exploration parameters during training."
   ]
  },
  {
   "cell_type": "code",
   "execution_count": 10,
   "metadata": {},
   "outputs": [],
   "source": [
    "class ConstantScheduler():\n",
    "    def __init__(self, value):\n",
    "        self.value = value\n",
    "        self.step = 0\n",
    "        \n",
    "    def __call__(self):\n",
    "        self.step += 1\n",
    "        value = self.value\n",
    "        \n",
    "        return value\n",
    "        \n",
    "    def reset(self):\n",
    "        self.step = 0\n",
    "\n",
    "class ExponentialScheduler():\n",
    "    def __init__(self, start_value, end_value, rate):\n",
    "        self.start_value = start_value\n",
    "        self.end_value = end_value\n",
    "        self.rate = rate\n",
    "        self.value = start_value\n",
    "        self.step = 0\n",
    "        \n",
    "        if end_value > start_value:\n",
    "            assert rate > 1, 'Rate must be greater than one when the ending value is greater than the starting value'\n",
    "            self.bound = min\n",
    "        elif end_value < start_value:\n",
    "            assert rate < 1, 'Rate must be less than one when the ending value is less than the starting value'\n",
    "            self.bound = max\n",
    "        else:\n",
    "            raise ValueError('Start and end value cannot be the same')\n",
    "\n",
    "    def __call__(self):\n",
    "        self.step += 1\n",
    "        value = self.value\n",
    "        \n",
    "        self.value = self.bound(self.value * self.rate, self.end_value)\n",
    "        \n",
    "        return value\n",
    "        \n",
    "    def reset(self):\n",
    "        self.step = 0\n",
    "        self.value = self.start_value"
   ]
  },
  {
   "cell_type": "markdown",
   "metadata": {},
   "source": [
    "Next we define and train our agents! As a baseline, we start by training two separate DDPG agents. These agents do not share any information, such as the other agent's observation, action, etc. As such, each agent tries to find a policy that maximizes its own reward and the other agent's actions are simply part of the environment. Because each agent should learn to hit the ball over the net, the two agents should eventually learn to rally, keeping the ball in play for longer and longer. However, because there is no mechanism for agents to share information, it may be difficult for the agents to learn to cooperate and one agent may dominate the other, resulting in a suboptimal combined score.\n",
    "\n",
    "Many of the hyperparameters below are fairly standard. In order to encourage sufficient exploration, we inject a significant amount of noise into the policy and reduce that noise as training proceeds. We experimented with using both an Ornstein-Uhlenbeck (OU) process to inject temporally correlated noise into the policy and a Gaussian process to inject normally distributed noise into the policy. Early experiments showed that Gaussian noise was almost consistently better than OU noise for this environment, and OU noise was not used in the runs below.\n",
    "\n",
    "We start with a standard deviation parametetr of 1.5, which essentially encourages random actions for the first 1,000 or so episodes (actions are still clipped to be between -1.0 and 1.0 after noise is injected). While agents with lower levels of noise - lower standard deviation settings - were able to solve the environment (and sometimes faster), learning was less consistent and many times one of the agents would get stuck on a suboptimal policy, performing the same action regardless of the state. Encouraging more exploration alleivated this issue.\n",
    "\n",
    "We trained three separate sets of agents with the same hyperparameters to understand the variation that occursduring training. For the below hyperparameters, each set of agents was able to solve the environment within about 2,000 to 3,000 episodes."
   ]
  },
  {
   "cell_type": "code",
   "execution_count": 12,
   "metadata": {
    "scrolled": true
   },
   "outputs": [
    {
     "name": "stdout",
     "output_type": "stream",
     "text": [
      "Separate DDPG Agents with Gaussian Noise\n",
      "Run 1\n",
      "Episode 100 | Score: 0.00 | Average Score: 0.01\n",
      "Episode 200 | Score: 0.00 | Average Score: 0.00\n",
      "Episode 300 | Score: 0.00 | Average Score: 0.01\n",
      "Episode 400 | Score: 0.00 | Average Score: 0.00\n",
      "Episode 500 | Score: 0.00 | Average Score: 0.00\n",
      "Episode 600 | Score: 0.00 | Average Score: 0.00\n",
      "Episode 700 | Score: 0.00 | Average Score: 0.01\n",
      "Episode 800 | Score: 0.00 | Average Score: 0.00\n",
      "Episode 900 | Score: 0.00 | Average Score: 0.00\n",
      "Episode 1000 | Score: 0.10 | Average Score: 0.01\n",
      "Episode 1100 | Score: 0.00 | Average Score: 0.01\n",
      "Episode 1200 | Score: 0.00 | Average Score: 0.01\n",
      "Episode 1300 | Score: 0.09 | Average Score: 0.08\n",
      "Episode 1400 | Score: 0.20 | Average Score: 0.07\n",
      "Episode 1500 | Score: 0.10 | Average Score: 0.11\n",
      "Episode 1600 | Score: 0.20 | Average Score: 0.14\n",
      "Episode 1700 | Score: 0.10 | Average Score: 0.15\n",
      "Episode 1800 | Score: 0.10 | Average Score: 0.23\n",
      "Episode 1900 | Score: 0.50 | Average Score: 0.18\n",
      "Episode 1967 | Score: 2.70 | Average Score: 1.00\n",
      "Environment solved in 1967 episodes\n",
      "\n",
      "Run 2\n",
      "Episode 100 | Score: 0.00 | Average Score: 0.01\n",
      "Episode 200 | Score: 0.00 | Average Score: 0.01\n",
      "Episode 300 | Score: 0.00 | Average Score: 0.01\n",
      "Episode 400 | Score: 0.00 | Average Score: 0.01\n",
      "Episode 500 | Score: 0.00 | Average Score: 0.01\n",
      "Episode 600 | Score: 0.00 | Average Score: 0.00\n",
      "Episode 700 | Score: 0.00 | Average Score: 0.01\n",
      "Episode 800 | Score: 0.00 | Average Score: 0.00\n",
      "Episode 900 | Score: 0.00 | Average Score: 0.00\n",
      "Episode 1000 | Score: 0.00 | Average Score: 0.00\n",
      "Episode 1100 | Score: 0.00 | Average Score: 0.00\n",
      "Episode 1200 | Score: 0.00 | Average Score: 0.00\n",
      "Episode 1300 | Score: 0.00 | Average Score: 0.00\n",
      "Episode 1400 | Score: 0.00 | Average Score: 0.00\n",
      "Episode 1500 | Score: 0.00 | Average Score: 0.00\n",
      "Episode 1600 | Score: 0.00 | Average Score: 0.00\n",
      "Episode 1700 | Score: 0.10 | Average Score: 0.02\n",
      "Episode 1800 | Score: 0.00 | Average Score: 0.05\n",
      "Episode 1900 | Score: 0.10 | Average Score: 0.13\n",
      "Episode 2000 | Score: 0.10 | Average Score: 0.15\n",
      "Episode 2100 | Score: 0.20 | Average Score: 0.13\n",
      "Episode 2200 | Score: 0.30 | Average Score: 0.26\n",
      "Episode 2300 | Score: 0.80 | Average Score: 0.64\n",
      "Episode 2354 | Score: 2.70 | Average Score: 1.00\n",
      "Environment solved in 2354 episodes\n",
      "\n",
      "Run 3\n",
      "Episode 100 | Score: 0.00 | Average Score: 0.02\n",
      "Episode 200 | Score: 0.00 | Average Score: 0.01\n",
      "Episode 300 | Score: 0.00 | Average Score: 0.02\n",
      "Episode 400 | Score: 0.00 | Average Score: 0.01\n",
      "Episode 500 | Score: 0.00 | Average Score: 0.01\n",
      "Episode 600 | Score: 0.00 | Average Score: 0.01\n",
      "Episode 700 | Score: 0.10 | Average Score: 0.03\n",
      "Episode 800 | Score: 0.00 | Average Score: 0.04\n",
      "Episode 900 | Score: 0.00 | Average Score: 0.04\n",
      "Episode 1000 | Score: 0.00 | Average Score: 0.04\n",
      "Episode 1100 | Score: 0.10 | Average Score: 0.05\n",
      "Episode 1200 | Score: 0.00 | Average Score: 0.04\n",
      "Episode 1300 | Score: 0.10 | Average Score: 0.04\n",
      "Episode 1400 | Score: 0.00 | Average Score: 0.05\n",
      "Episode 1500 | Score: 0.10 | Average Score: 0.07\n",
      "Episode 1600 | Score: 0.10 | Average Score: 0.15\n",
      "Episode 1700 | Score: 0.10 | Average Score: 0.18\n",
      "Episode 1800 | Score: 0.20 | Average Score: 0.19\n",
      "Episode 1900 | Score: 0.00 | Average Score: 0.22\n",
      "Episode 2000 | Score: 0.40 | Average Score: 0.25\n",
      "Episode 2100 | Score: 0.10 | Average Score: 0.39\n",
      "Episode 2200 | Score: 0.30 | Average Score: 0.60\n",
      "Episode 2300 | Score: 0.80 | Average Score: 0.96\n",
      "Episode 2400 | Score: 0.30 | Average Score: 0.73\n",
      "Episode 2500 | Score: 0.20 | Average Score: 0.61\n",
      "Episode 2600 | Score: 2.60 | Average Score: 0.77\n",
      "Episode 2661 | Score: 2.60 | Average Score: 1.01\n",
      "Environment solved in 2661 episodes\n",
      "\n"
     ]
    }
   ],
   "source": [
    "print('Separate DDPG Agents with Gaussian Noise')\n",
    "separate_ddpg_gn_scores = []\n",
    "\n",
    "for i in range(3):\n",
    "    print('Run', i + 1)\n",
    "    model_fn = lambda: DDPGModel(24, 2, critic_hidden_layers = (256, 128), actor_hidden_layers = (256, 128))\n",
    "\n",
    "    DDPG_agents = [DDPGAgent(model_fn, \n",
    "                             exploration_noise = GaussianProcess((2, ), ExponentialScheduler(1.5, .1, .99995)),\n",
    "                             gamma = 0.99,\n",
    "                             clip_gradients = 1.0,\n",
    "                             actor_learning_rate = 1e-4,\n",
    "                             critic_learning_rate = 1e-3,\n",
    "                             tau = 1e-3,\n",
    "                             batch_size = 256, \n",
    "                             replay_start = 1000) for _ in range(2)]\n",
    "\n",
    "    scores = train_separately(env, DDPG_agents, n_episodes = 5000, n_agents = 2,\n",
    "                              evaluation_window = 100, verbose = 100, solved_score = 1.0)\n",
    "    separate_ddpg_gn_scores.append(scores)\n",
    "    print('')"
   ]
  },
  {
   "cell_type": "markdown",
   "metadata": {},
   "source": [
    "We'll quickly define a little helper function to convert the raw scores to moving averages."
   ]
  },
  {
   "cell_type": "code",
   "execution_count": 17,
   "metadata": {},
   "outputs": [],
   "source": [
    "def avg_scores(scores, window = 100):\n",
    "    avg_scores = pd.Series(scores).rolling(window, min_periods = 1).mean()\n",
    "    \n",
    "    return avg_scores"
   ]
  },
  {
   "cell_type": "code",
   "execution_count": 18,
   "metadata": {
    "scrolled": false
   },
   "outputs": [
    {
     "data": {
      "image/png": "[encoded data removed]",
      "text/plain": [
       "<Figure size 864x432 with 1 Axes>"
      ]
     },
     "metadata": {
      "needs_background": "light"
     },
     "output_type": "display_data"
    }
   ],
   "source": [
    "fig, ax = plt.subplots(figsize = (12, 6))\n",
    "for score in separate_ddpg_gn_scores:\n",
    "    ax.plot(avg_scores(score), color = 'r', label = 'DDPG with Gaussian Noise')\n",
    "\n",
    "handles, labels = ax.get_legend_handles_labels()\n",
    "ax.legend([handles[0]], [labels[0]], loc = 'upper left')\n",
    "\n",
    "plt.axhline(1.0, color = 'k', linestyle = '--')\n",
    "plt.axhline(0.5, color = 'k', linestyle = '--')\n",
    "plt.title('DDPG')\n",
    "plt.show()"
   ]
  },
  {
   "cell_type": "markdown",
   "metadata": {},
   "source": [
    "Now that we have a baseline implementation to compare against, we move onto an implementation of multi-agent deep deterministic policy gradients (MADDPG). Similar to DDPG, MADDPG is an actor-critic algorithm that learns deterministic policies. While the actor networks are essentially identical - each taking the agent's observation as input and outputting a continuous action - each agent's critic has access to all the agents' observations and actions. This information sharing allows the critic to guide learning based on the steps the other agents take and has been shown to be effective for both competitive and collaborative tasks.\n",
    "\n",
    "We use a similar set of hyperparameters for the MADDPG agents as we used for the separate DDPG agents, and, again, we trained three separate sets of agents to better understand the variation in training. The MADDPG agents did better with even more exploration, so we increased the standard deviation hyperparameter from 1.5 up to 3.0. \n",
    "\n",
    "The MADDPH agents solved the environment in a similar number of steps (between about 2,000 and 3,000), but exhibited less variation between runs as can be seen from the smaller range of scores in the graphs below. That said, each agent was only run 3 times, so additional runs may show a different pattern."
   ]
  },
  {
   "cell_type": "code",
   "execution_count": 16,
   "metadata": {
    "scrolled": true
   },
   "outputs": [
    {
     "name": "stdout",
     "output_type": "stream",
     "text": [
      "MADDPG Agents with Gaussian Noise\n",
      "Run 1\n",
      "Episode 100 | Score: 0.00 | Average Score: 0.02\n",
      "Episode 200 | Score: 0.00 | Average Score: 0.02\n",
      "Episode 300 | Score: 0.00 | Average Score: 0.01\n",
      "Episode 400 | Score: 0.00 | Average Score: 0.02\n",
      "Episode 500 | Score: 0.00 | Average Score: 0.01\n",
      "Episode 600 | Score: 0.00 | Average Score: 0.01\n",
      "Episode 700 | Score: 0.00 | Average Score: 0.02\n",
      "Episode 800 | Score: 0.10 | Average Score: 0.02\n",
      "Episode 900 | Score: 0.10 | Average Score: 0.03\n",
      "Episode 1000 | Score: 0.00 | Average Score: 0.03\n",
      "Episode 1100 | Score: 0.10 | Average Score: 0.04\n",
      "Episode 1200 | Score: 0.10 | Average Score: 0.04\n",
      "Episode 1300 | Score: 0.00 | Average Score: 0.04\n",
      "Episode 1400 | Score: 0.00 | Average Score: 0.05\n",
      "Episode 1500 | Score: 0.10 | Average Score: 0.04\n",
      "Episode 1600 | Score: 0.00 | Average Score: 0.04\n",
      "Episode 1700 | Score: 0.10 | Average Score: 0.05\n",
      "Episode 1800 | Score: 0.09 | Average Score: 0.07\n",
      "Episode 1900 | Score: 0.10 | Average Score: 0.09\n",
      "Episode 2000 | Score: 0.09 | Average Score: 0.11\n",
      "Episode 2100 | Score: 0.20 | Average Score: 0.13\n",
      "Episode 2200 | Score: 0.79 | Average Score: 0.25\n",
      "Episode 2300 | Score: 1.20 | Average Score: 0.60\n",
      "Episode 2400 | Score: 0.00 | Average Score: 0.61\n",
      "Episode 2473 | Score: 1.60 | Average Score: 1.01\n",
      "Environment solved in 2473 episodes\n",
      "\n",
      "Run 2\n",
      "Episode 100 | Score: 0.00 | Average Score: 0.02\n",
      "Episode 200 | Score: 0.00 | Average Score: 0.02\n",
      "Episode 300 | Score: 0.00 | Average Score: 0.02\n",
      "Episode 400 | Score: 0.00 | Average Score: 0.02\n",
      "Episode 500 | Score: 0.00 | Average Score: 0.02\n",
      "Episode 600 | Score: 0.00 | Average Score: 0.02\n",
      "Episode 700 | Score: 0.00 | Average Score: 0.01\n",
      "Episode 800 | Score: 0.00 | Average Score: 0.01\n",
      "Episode 900 | Score: 0.00 | Average Score: 0.00\n",
      "Episode 1000 | Score: 0.00 | Average Score: 0.01\n",
      "Episode 1100 | Score: 0.00 | Average Score: 0.01\n",
      "Episode 1200 | Score: 0.10 | Average Score: 0.01\n",
      "Episode 1300 | Score: 0.00 | Average Score: 0.01\n",
      "Episode 1400 | Score: 0.00 | Average Score: 0.01\n",
      "Episode 1500 | Score: 0.20 | Average Score: 0.03\n",
      "Episode 1600 | Score: 0.10 | Average Score: 0.05\n",
      "Episode 1700 | Score: 0.09 | Average Score: 0.05\n",
      "Episode 1800 | Score: 0.10 | Average Score: 0.07\n",
      "Episode 1900 | Score: 0.10 | Average Score: 0.15\n",
      "Episode 2000 | Score: 0.09 | Average Score: 0.29\n",
      "Episode 2100 | Score: 1.00 | Average Score: 0.69\n",
      "Episode 2200 | Score: 0.10 | Average Score: 0.20\n",
      "Episode 2256 | Score: 2.60 | Average Score: 1.01\n",
      "Environment solved in 2256 episodes\n",
      "\n",
      "Run 3\n",
      "Episode 100 | Score: 0.00 | Average Score: 0.02\n",
      "Episode 200 | Score: 0.00 | Average Score: 0.02\n",
      "Episode 300 | Score: 0.00 | Average Score: 0.01\n",
      "Episode 400 | Score: 0.00 | Average Score: 0.01\n",
      "Episode 500 | Score: 0.00 | Average Score: 0.00\n",
      "Episode 600 | Score: 0.00 | Average Score: 0.02\n",
      "Episode 700 | Score: 0.00 | Average Score: 0.01\n",
      "Episode 800 | Score: 0.00 | Average Score: 0.02\n",
      "Episode 900 | Score: 0.00 | Average Score: 0.03\n",
      "Episode 1000 | Score: 0.00 | Average Score: 0.04\n",
      "Episode 1100 | Score: 0.09 | Average Score: 0.05\n",
      "Episode 1200 | Score: 0.00 | Average Score: 0.06\n",
      "Episode 1300 | Score: 0.10 | Average Score: 0.07\n",
      "Episode 1400 | Score: 0.10 | Average Score: 0.08\n",
      "Episode 1500 | Score: 0.10 | Average Score: 0.09\n",
      "Episode 1600 | Score: 0.10 | Average Score: 0.12\n",
      "Episode 1700 | Score: 0.10 | Average Score: 0.11\n",
      "Episode 1800 | Score: 0.10 | Average Score: 0.16\n",
      "Episode 1900 | Score: 0.49 | Average Score: 0.35\n",
      "Episode 2000 | Score: 0.60 | Average Score: 0.58\n",
      "Episode 2049 | Score: 1.00 | Average Score: 1.00\n",
      "Environment solved in 2049 episodes\n",
      "\n"
     ]
    }
   ],
   "source": [
    "print('MADDPG Agents with Gaussian Noise')\n",
    "maddpg_gn_scores = []\n",
    "\n",
    "for i in range(3):\n",
    "    print('Run', i + 1)\n",
    "    model_fn = lambda: MADDPGModel(2, 24, 2, critic_hidden_layers = (256, 128), actor_hidden_layers = (256, 128))\n",
    "\n",
    "    MADDPG_agents = MADDPGAgent(2, model_fn,\n",
    "                                exploration_noise_fn = lambda: GaussianProcess((2, ), \n",
    "                                                                               ExponentialScheduler(3.0, .1, .99995)),\n",
    "                                batch_size = 256, \n",
    "                                replay_start = 1000,\n",
    "                                tau = 1e-3,\n",
    "                                actor_learning_rate = 1e-4,\n",
    "                                critic_learning_rate = 1e-3,\n",
    "                                clip_gradients = 1.0,\n",
    "                                share_weights = False)\n",
    "\n",
    "    scores = train_multi_agent(env, MADDPG_agents, n_episodes = 5000, n_agents = 2,\n",
    "                               evaluation_window = 100, verbose = 100, solved_score = 1.0)\n",
    "    maddpg_gn_scores.append(scores)\n",
    "    print('')"
   ]
  },
  {
   "cell_type": "markdown",
   "metadata": {},
   "source": [
    "Comparing the separate DDPG agents and the MADDPG agents, "
   ]
  },
  {
   "cell_type": "code",
   "execution_count": 19,
   "metadata": {},
   "outputs": [
    {
     "data": {
      "image/png": "[encoded data removed]",
      "text/plain": [
       "<Figure size 864x432 with 1 Axes>"
      ]
     },
     "metadata": {
      "needs_background": "light"
     },
     "output_type": "display_data"
    }
   ],
   "source": [
    "fig, ax = plt.subplots(figsize = (12, 6))\n",
    "for score in separate_ddpg_gn_scores:\n",
    "    ax.plot(avg_scores(score), color = 'r', label = 'DDPG with Gaussian Noise')\n",
    "\n",
    "for score in maddpg_gn_scores:\n",
    "    ax.plot(avg_scores(score), color = 'b', label = 'MADDPG with Gaussian Noise')\n",
    "    \n",
    "handles, labels = ax.get_legend_handles_labels()\n",
    "ax.legend([handles[0], handles[3]], [labels[0], labels[3]], loc = 'upper left')\n",
    "\n",
    "plt.axhline(1.0, color = 'k', linestyle = '--')\n",
    "plt.axhline(0.5, color = 'k', linestyle = '--')\n",
    "plt.title('MADDPG vs DDPG')\n",
    "plt.show()"
   ]
  },
  {
   "cell_type": "markdown",
   "metadata": {},
   "source": [
    "Because the critic's architecture is the main difference between the separate DDPG agents and the MADDPG agents, we hypothesize that a more robust critic would further improve the time it takes for the agents' to solve the environment. Therefore, next, we introduce multi-agent distributional deep deterministic policy gradients (MAD3PG), inspired by distributed distributional deep deterministic policy gradients (D4PG) and using a quantile regression critic based on QR-DQN. Instead of the learning the mean state-action value, this agent's critic learns the entire state-action value distribution, based on the quantiles of the distribution. Unlike D4PG, we do not use distributed training or n-step methods and we replace the categorical critic with the quantile regression critic, primarily for simplicity and to avoid the projection step required in Categorical DQN. For the agents below, we used 25 quantiles to estimate the state-action value distribution. \n",
    "\n",
    "The MAD3PG agents also use similar hyperparameters to the agents above, but we found that removing gradient clipping from these agents produced better results. Besides from gradient clipping and testing a few different values of the standard deviation parameter that controls exploration, no other hyperparameter tuning was done."
   ]
  },
  {
   "cell_type": "code",
   "execution_count": 21,
   "metadata": {
    "scrolled": true
   },
   "outputs": [
    {
     "name": "stdout",
     "output_type": "stream",
     "text": [
      "MAD3PG Agents with Gaussian Noise\n",
      "Run 1\n",
      "Episode 100 | Score: 0.00 | Average Score: 0.02\n",
      "Episode 200 | Score: 0.00 | Average Score: 0.01\n",
      "Episode 300 | Score: 0.00 | Average Score: 0.01\n",
      "Episode 400 | Score: 0.00 | Average Score: 0.01\n",
      "Episode 500 | Score: 0.00 | Average Score: 0.00\n",
      "Episode 600 | Score: 0.00 | Average Score: 0.01\n",
      "Episode 700 | Score: 0.00 | Average Score: 0.01\n",
      "Episode 800 | Score: 0.10 | Average Score: 0.03\n",
      "Episode 900 | Score: 0.00 | Average Score: 0.02\n",
      "Episode 1000 | Score: 0.20 | Average Score: 0.03\n",
      "Episode 1100 | Score: 0.00 | Average Score: 0.02\n",
      "Episode 1200 | Score: 0.00 | Average Score: 0.05\n",
      "Episode 1300 | Score: 0.10 | Average Score: 0.05\n",
      "Episode 1400 | Score: 0.09 | Average Score: 0.04\n",
      "Episode 1500 | Score: 0.10 | Average Score: 0.06\n",
      "Episode 1600 | Score: 0.00 | Average Score: 0.08\n",
      "Episode 1700 | Score: 0.10 | Average Score: 0.12\n",
      "Episode 1800 | Score: 0.10 | Average Score: 0.11\n",
      "Episode 1900 | Score: 0.10 | Average Score: 0.16\n",
      "Episode 2000 | Score: 0.20 | Average Score: 0.19\n",
      "Episode 2100 | Score: 0.40 | Average Score: 0.32\n",
      "Episode 2200 | Score: 0.50 | Average Score: 0.71\n",
      "Episode 2300 | Score: 0.30 | Average Score: 0.87\n",
      "Episode 2320 | Score: 2.50 | Average Score: 1.01\n",
      "Environment solved in 2320 episodes\n",
      "\n",
      "Run 2\n",
      "Episode 100 | Score: 0.00 | Average Score: 0.01\n",
      "Episode 200 | Score: 0.00 | Average Score: 0.01\n",
      "Episode 300 | Score: 0.00 | Average Score: 0.02\n",
      "Episode 400 | Score: 0.00 | Average Score: 0.02\n",
      "Episode 500 | Score: 0.00 | Average Score: 0.02\n",
      "Episode 600 | Score: 0.00 | Average Score: 0.01\n",
      "Episode 700 | Score: 0.00 | Average Score: 0.01\n",
      "Episode 800 | Score: 0.00 | Average Score: 0.01\n",
      "Episode 900 | Score: 0.00 | Average Score: 0.01\n",
      "Episode 1000 | Score: 0.00 | Average Score: 0.02\n",
      "Episode 1100 | Score: 0.00 | Average Score: 0.04\n",
      "Episode 1200 | Score: 0.10 | Average Score: 0.04\n",
      "Episode 1300 | Score: 0.10 | Average Score: 0.05\n",
      "Episode 1400 | Score: 0.00 | Average Score: 0.04\n",
      "Episode 1500 | Score: 0.00 | Average Score: 0.08\n",
      "Episode 1600 | Score: 0.10 | Average Score: 0.12\n",
      "Episode 1700 | Score: 0.20 | Average Score: 0.15\n",
      "Episode 1800 | Score: 0.50 | Average Score: 0.85\n",
      "Episode 1820 | Score: 2.70 | Average Score: 1.02\n",
      "Environment solved in 1820 episodes\n",
      "\n",
      "Run 3\n",
      "Episode 100 | Score: 0.00 | Average Score: 0.02\n",
      "Episode 200 | Score: 0.00 | Average Score: 0.02\n",
      "Episode 300 | Score: 0.00 | Average Score: 0.01\n",
      "Episode 400 | Score: 0.00 | Average Score: 0.02\n",
      "Episode 500 | Score: 0.00 | Average Score: 0.01\n",
      "Episode 600 | Score: 0.00 | Average Score: 0.01\n",
      "Episode 700 | Score: 0.00 | Average Score: 0.01\n",
      "Episode 800 | Score: 0.00 | Average Score: 0.01\n",
      "Episode 900 | Score: 0.00 | Average Score: 0.00\n",
      "Episode 1000 | Score: 0.00 | Average Score: 0.02\n",
      "Episode 1100 | Score: 0.10 | Average Score: 0.04\n",
      "Episode 1200 | Score: 0.10 | Average Score: 0.09\n",
      "Episode 1300 | Score: 0.20 | Average Score: 0.10\n",
      "Episode 1400 | Score: 0.30 | Average Score: 0.13\n",
      "Episode 1500 | Score: 0.09 | Average Score: 0.20\n",
      "Episode 1600 | Score: 0.10 | Average Score: 0.31\n",
      "Episode 1674 | Score: 2.60 | Average Score: 1.00\n",
      "Environment solved in 1674 episodes\n",
      "\n"
     ]
    }
   ],
   "source": [
    "print('MAD3PG Agents with Gaussian Noise')\n",
    "mad3pg_gn_scores = []\n",
    "\n",
    "for i in range(3):\n",
    "    print('Run', i + 1)\n",
    "    model_fn = lambda: MAD3PGModel(2, 24, 2, 25, critic_hidden_layers = (256, 128), actor_hidden_layers = (256, 128))\n",
    "\n",
    "    MAD3PG_agents = MAD3PGAgent(2, model_fn, 25,\n",
    "                                exploration_noise_fn = lambda: GaussianProcess((2, ), \n",
    "                                                                               ExponentialScheduler(3.0, .1, .99995)),\n",
    "                                batch_size = 256, \n",
    "                                replay_start = 1000,\n",
    "                                tau = 1e-3,\n",
    "                                actor_learning_rate = 1e-4,\n",
    "                                critic_learning_rate = 1e-3,\n",
    "                                clip_gradients = None,\n",
    "                                share_weights = False)\n",
    "\n",
    "    scores = train_multi_agent(env, MAD3PG_agents, n_episodes = 5000, n_agents = 2,\n",
    "                               evaluation_window = 100, verbose = 100, solved_score = 1.0)\n",
    "    mad3pg_gn_scores.append(scores)\n",
    "    print('')"
   ]
  },
  {
   "cell_type": "markdown",
   "metadata": {},
   "source": [
    "Finally, we compare our baseline separate DDPG agents to the MAD3PG agents"
   ]
  },
  {
   "cell_type": "code",
   "execution_count": 25,
   "metadata": {},
   "outputs": [
    {
     "data": {
      "image/png": "[encoded data removed]",
      "text/plain": [
       "<Figure size 864x432 with 1 Axes>"
      ]
     },
     "metadata": {
      "needs_background": "light"
     },
     "output_type": "display_data"
    }
   ],
   "source": [
    "fig, ax = plt.subplots(figsize = (12, 6))\n",
    "for score in separate_ddpg_gn_scores:\n",
    "    ax.plot(avg_scores(score), color = 'r', label = 'DDPG with Gaussian Noise')\n",
    "    \n",
    "for score in mad3pg_gn_scores:\n",
    "    ax.plot(avg_scores(score), color = 'b', label = 'MAD3PG with Gaussian Noise')\n",
    "    \n",
    "handles, labels = ax.get_legend_handles_labels()\n",
    "ax.legend([handles[0], handles[3]], [labels[0], labels[3]], loc = 'upper left')\n",
    "    \n",
    "plt.axhline(1.0, color = 'k', linestyle = '--')\n",
    "plt.axhline(0.5, color = 'k', linestyle = '--')\n",
    "plt.title('MAD3PG vs DDPG')\n",
    "plt.show()"
   ]
  },
  {
   "cell_type": "markdown",
   "metadata": {},
   "source": [
    "As can be seen from the graph above, the MAD3PG agents generally solved the environment faster, with 2 out of 3 runs solving the environment faster than the best DDPG run. Additionally, 2 out of 3 agents solved the environment in less than 2,000 episodes, a difficult feat for the other agents.\n",
    "\n",
    "Lastly, we save the weights and biases of the last MAD3PG agent and close the environment."
   ]
  },
  {
   "cell_type": "code",
   "execution_count": 26,
   "metadata": {},
   "outputs": [],
   "source": [
    "torch.save(MAD3PG_agents.online_networks[0].state_dict(), 'MAD3PG_agent_1_online_networks.pt')\n",
    "torch.save(MAD3PG_agents.online_networks[1].state_dict(), 'MAD3PG_agent_2_online_networks.pt')\n",
    "torch.save(MAD3PG_agents.target_networks[0].state_dict(), 'MAD3PG_agent_1_target_networks.pt')\n",
    "torch.save(MAD3PG_agents.target_networks[1].state_dict(), 'MAD3PG_agent_2_target_networks.pt')"
   ]
  },
  {
   "cell_type": "code",
   "execution_count": 27,
   "metadata": {},
   "outputs": [],
   "source": [
    "env.close()"
   ]
  },
  {
   "cell_type": "markdown",
   "metadata": {},
   "source": [
    "### 5. Ideas for Future Work\n",
    "\n",
    "While all the agents were able to solve the environment within about 3,000 episodes, very little hyperparameter tuning was done given the amount of time training took. Most likely, significant improvement could be made on this task using the same agent designs with better hyperparameters.\n",
    "\n",
    "While we used some of the ideas from D4PG, other aspects of that agent could be used, including distributed training, n-step methods, and prioritized experience replay.\n",
    "\n",
    "DDPG is also not the only algorithm that can accomodate continuous policies; multi-agent versions of A2C, PPO and other stochastic policy agents could provide additional improvements over the deterministic policy agents used herein. \n",
    "\n",
    "Finally, we used the simplest version of MADDPG. In the original paper, agents with an ensemble of policies generally performed better than the single policy agents. This could improve training time as each agent's ensemble policy may be more robust to changes in the other agent's policy."
   ]
  }
 ],
 "metadata": {
  "kernelspec": {
   "display_name": "drlnd",
   "language": "python",
   "name": "drlnd"
  },
  "language_info": {
   "codemirror_mode": {
    "name": "ipython",
    "version": 3
   },
   "file_extension": ".py",
   "mimetype": "text/x-python",
   "name": "python",
   "nbconvert_exporter": "python",
   "pygments_lexer": "ipython3",
   "version": "3.6.7"
  }
 },
 "nbformat": 4,
 "nbformat_minor": 2
}
